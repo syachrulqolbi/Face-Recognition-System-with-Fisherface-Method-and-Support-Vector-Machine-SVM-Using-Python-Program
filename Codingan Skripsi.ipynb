{
 "cells": [
  {
   "cell_type": "code",
   "execution_count": 1,
   "metadata": {
    "colab": {
     "base_uri": "https://localhost:8080/"
    },
    "executionInfo": {
     "elapsed": 936,
     "status": "ok",
     "timestamp": 1612013256948,
     "user": {
      "displayName": "Syachrul Qolbi Nur Septi",
      "photoUrl": "https://lh3.googleusercontent.com/a-/AOh14Gi0t5n-DhGJBIqIaG2iOyf6T0LGcVhGVR9IydCk=s64",
      "userId": "08661114515979953462"
     },
     "user_tz": -420
    },
    "id": "EG-CoyFcd8UE",
    "outputId": "63f91838-bf1e-441e-c71d-f8c801afa7e5"
   },
   "outputs": [
    {
     "name": "stdout",
     "output_type": "stream",
     "text": [
      "Drive already mounted at /content/drive; to attempt to forcibly remount, call drive.mount(\"/content/drive\", force_remount=True).\n"
     ]
    }
   ],
   "source": [
    "#@title Mount data from google drive\n",
    "from google.colab import drive\n",
    "drive.mount('/content/drive')"
   ]
  },
  {
   "cell_type": "code",
   "execution_count": 8,
   "metadata": {
    "colab": {
     "base_uri": "https://localhost:8080/"
    },
    "id": "Z45c0JBSfj7H",
    "outputId": "e6669602-0fd9-43e2-d464-ad32debf96ec"
   },
   "outputs": [],
   "source": [
    "#@title Code for loading the data\n",
    "# import libraries \n",
    "#!pip install mtcnn\n",
    "#!pip install patool\n",
    "import pandas as pd\n",
    "import matplotlib.pyplot as plt\n",
    "from matplotlib.pyplot import imshow\n",
    "import numpy as np\n",
    "import scipy.linalg as la\n",
    "#from mtcnn import MTCNN\n",
    "import patoolib\n",
    "\n",
    "# utilities library\n",
    "import cv2\n",
    "import os\n",
    "\n",
    "def crop_image(image_path):\n",
    "    detector = MTCNN() \n",
    "    img=cv2.imread(image_path)\n",
    "    data=detector.detect_faces(img)\n",
    "    print(data)\n",
    "    biggest=0\n",
    "    if data !=[]:\n",
    "        for faces in data:\n",
    "            box=faces['box']            \n",
    "            # calculate the area in the image\n",
    "            area = box[3]  * box[3]\n",
    "            if area>biggest:\n",
    "                biggest=area\n",
    "                bbox=box \n",
    "        bbox[0]= 0 if bbox[0]<0 else bbox[0]\n",
    "        bbox[1]= 0 if bbox[1]<0 else bbox[1]\n",
    "        img=img[bbox[1]: bbox[1]+bbox[3],bbox[0]: bbox[0]+ bbox[3]] \n",
    "        img = cv2.cvtColor(img, cv2.COLOR_BGR2RGB) # convert from bgr to rgb\n",
    "        return (True, img) \n",
    "    else:\n",
    "        return (False, None)\n",
    "\n",
    "# Read the input image\n",
    "#patoolib.extract_archive(\"drive/MyDrive/Labeled Faces in the Wild Home.rar\")\n",
    "data_path = \"Labeled Faces in the Wild Home Focused\"\n",
    "data_dir_list = os.listdir(data_path)\n",
    "\n",
    "img_data_list=[]\n",
    "img_label = []\n",
    "label_map = {}\n",
    "i = 0\n",
    "\n",
    "#set image size\n",
    "img_size = 128,128\n",
    "\n",
    "for dataset in data_dir_list:\n",
    "  img_list=os.listdir(data_path + '/' + dataset)\n",
    "  label_map[i] = str(dataset)\n",
    "\n",
    "  for img in img_list:\n",
    "        img_label.append(i)\n",
    "        input_img=cv2.imread(data_path + '/' + dataset + '/' + img)\n",
    "        status = True\n",
    "        #status,input_img=crop_image(data_path + '/' + dataset + '/' + img)\n",
    "        if status:\n",
    "          input_img_resize=cv2.resize(input_img,img_size)\n",
    "          # get color channel b, g, r\n",
    "          b,g,r = cv2.split(input_img_resize)\n",
    "          # switch it to r, g, b \n",
    "          input_img_rgb = cv2.merge([r,g,b])\n",
    "          input_img_resize = cv2.cvtColor(input_img_rgb, cv2.COLOR_RGB2GRAY)\n",
    "          img_data_list.append(input_img_resize)\n",
    "        else:\n",
    "          print('No facial image was detected')\n",
    "  i += 1\n",
    "\n",
    "img_data_list = np.array(img_data_list)\n",
    "img_label = np.array(img_label)\n",
    "\n",
    "def getlabel(id):\n",
    "    return label_map[id]"
   ]
  },
  {
   "cell_type": "code",
   "execution_count": 9,
   "metadata": {
    "id": "E7f92a1cfupR"
   },
   "outputs": [
    {
     "data": {
      "text/plain": [
       "((12773, 128, 128), (12773,))"
      ]
     },
     "execution_count": 9,
     "metadata": {},
     "output_type": "execute_result"
    }
   ],
   "source": [
    "# show the dimension of data and the label\n",
    "img_data_list.shape, img_label.shape"
   ]
  },
  {
   "cell_type": "code",
   "execution_count": 10,
   "metadata": {
    "id": "JUcnF-DAvRkX"
   },
   "outputs": [
    {
     "name": "stdout",
     "output_type": "stream",
     "text": [
      "[[[  7.   5.   9. ...  46.  37.  39.]\n",
      "  [  9.   8.  13. ...  53.  44.  43.]\n",
      "  [ 10.   9.  14. ...  52.  44.  43.]\n",
      "  ...\n",
      "  [242. 243. 239. ... 113. 112. 110.]\n",
      "  [245. 242. 238. ... 113. 113. 111.]\n",
      "  [242. 238. 234. ... 114. 116. 111.]]\n",
      "\n",
      " [[ 18.  20.  14. ... 137. 138. 136.]\n",
      "  [ 25.  19.  10. ... 116. 115. 129.]\n",
      "  [ 22.  17.   8. ... 111. 110. 122.]\n",
      "  ...\n",
      "  [ 28.  28.  24. ...  15.  20.  33.]\n",
      "  [ 37.  34.  27. ...  23.  30.  46.]\n",
      "  [ 50.  43.  32. ...  35.  44.  62.]]\n",
      "\n",
      " [[ 90.  87.  87. ...  86.  86.  88.]\n",
      "  [ 92.  89.  88. ...  81.  83.  90.]\n",
      "  [ 92.  89.  88. ...  76.  81.  91.]\n",
      "  ...\n",
      "  [ 88.  88.  87. ... 117. 113.  93.]\n",
      "  [ 89.  88.  87. ... 136. 134. 108.]\n",
      "  [ 88.  85.  83. ... 164. 160. 123.]]\n",
      "\n",
      " ...\n",
      "\n",
      " [[ 18.  20.  21. ... 125. 123. 121.]\n",
      "  [ 15.  18.  21. ... 120. 121. 124.]\n",
      "  [ 15.  18.  20. ... 115. 121. 126.]\n",
      "  ...\n",
      "  [ 29.  27.  24. ...   8.   9.  13.]\n",
      "  [ 31.  29.  25. ...   7.   9.  13.]\n",
      "  [ 32.  30.  26. ...   7.   9.  12.]]\n",
      "\n",
      " [[ 22.  18.  19. ...  88.  86.  96.]\n",
      "  [ 18.  15.  15. ...  89.  84.  91.]\n",
      "  [ 18.  16.  17. ... 101.  85.  89.]\n",
      "  ...\n",
      "  [ 12.  15.  15. ... 210. 215. 233.]\n",
      "  [ 16.  16.  17. ... 215. 220. 231.]\n",
      "  [ 22.  18.  18. ... 219. 224. 237.]]\n",
      "\n",
      " [[ 14.  14.  14. ...  24.  23.  22.]\n",
      "  [ 14.  15.  12. ...  19.  20.  19.]\n",
      "  [ 13.  15.  12. ...  17.  18.  19.]\n",
      "  ...\n",
      "  [233. 236. 234. ...  18.  18.  15.]\n",
      "  [232. 234. 233. ...  20.  19.  16.]\n",
      "  [232. 233. 233. ...  21.  20.  18.]]]\n"
     ]
    }
   ],
   "source": [
    "img_data_list = np.array(img_data_list)\n",
    "img_data_list = img_data_list.astype('float')\n",
    "print(img_data_list)"
   ]
  },
  {
   "cell_type": "code",
   "execution_count": 11,
   "metadata": {
    "id": "R4mfClAYvV4G"
   },
   "outputs": [
    {
     "data": {
      "text/plain": [
       "<matplotlib.image.AxesImage at 0x26fce0bb580>"
      ]
     },
     "execution_count": 11,
     "metadata": {},
     "output_type": "execute_result"
    },
    {
     "data": {
      "image/png": "[encoded data removed]",
      "text/plain": [
       "<Figure size 432x288 with 1 Axes>"
      ]
     },
     "metadata": {
      "needs_background": "light"
     },
     "output_type": "display_data"
    }
   ],
   "source": [
    "i = 0\n",
    "plt.imshow(img_data_list[i], cmap='gray')"
   ]
  },
  {
   "cell_type": "code",
   "execution_count": 12,
   "metadata": {
    "id": "2dFNBZTzvwCa"
   },
   "outputs": [
    {
     "name": "stdout",
     "output_type": "stream",
     "text": [
      "label of the #0 image is : 0\n",
      "which is translated into : Aaron_Eckhart\n"
     ]
    }
   ],
   "source": [
    "print(f\"label of the #{i} image is : {img_label[i]}\")\n",
    "print(f\"which is translated into : {getlabel(img_label[i])}\")"
   ]
  },
  {
   "cell_type": "code",
   "execution_count": 13,
   "metadata": {
    "id": "9keH8T0mvxxZ"
   },
   "outputs": [
    {
     "data": {
      "text/html": [
       "<div>\n",
       "<style scoped>\n",
       "    .dataframe tbody tr th:only-of-type {\n",
       "        vertical-align: middle;\n",
       "    }\n",
       "\n",
       "    .dataframe tbody tr th {\n",
       "        vertical-align: top;\n",
       "    }\n",
       "\n",
       "    .dataframe thead th {\n",
       "        text-align: right;\n",
       "    }\n",
       "</style>\n",
       "<table border=\"1\" class=\"dataframe\">\n",
       "  <thead>\n",
       "    <tr style=\"text-align: right;\">\n",
       "      <th></th>\n",
       "      <th>0</th>\n",
       "      <th>1</th>\n",
       "      <th>2</th>\n",
       "      <th>3</th>\n",
       "      <th>4</th>\n",
       "      <th>5</th>\n",
       "      <th>6</th>\n",
       "      <th>7</th>\n",
       "      <th>8</th>\n",
       "      <th>9</th>\n",
       "      <th>...</th>\n",
       "      <th>16374</th>\n",
       "      <th>16375</th>\n",
       "      <th>16376</th>\n",
       "      <th>16377</th>\n",
       "      <th>16378</th>\n",
       "      <th>16379</th>\n",
       "      <th>16380</th>\n",
       "      <th>16381</th>\n",
       "      <th>16382</th>\n",
       "      <th>16383</th>\n",
       "    </tr>\n",
       "  </thead>\n",
       "  <tbody>\n",
       "    <tr>\n",
       "      <th>0</th>\n",
       "      <td>7.0</td>\n",
       "      <td>5.0</td>\n",
       "      <td>9.0</td>\n",
       "      <td>17.0</td>\n",
       "      <td>26.0</td>\n",
       "      <td>33.0</td>\n",
       "      <td>40.0</td>\n",
       "      <td>43.0</td>\n",
       "      <td>43.0</td>\n",
       "      <td>43.0</td>\n",
       "      <td>...</td>\n",
       "      <td>139.0</td>\n",
       "      <td>134.0</td>\n",
       "      <td>115.0</td>\n",
       "      <td>110.0</td>\n",
       "      <td>107.0</td>\n",
       "      <td>108.0</td>\n",
       "      <td>111.0</td>\n",
       "      <td>114.0</td>\n",
       "      <td>116.0</td>\n",
       "      <td>111.0</td>\n",
       "    </tr>\n",
       "    <tr>\n",
       "      <th>1</th>\n",
       "      <td>18.0</td>\n",
       "      <td>20.0</td>\n",
       "      <td>14.0</td>\n",
       "      <td>6.0</td>\n",
       "      <td>7.0</td>\n",
       "      <td>15.0</td>\n",
       "      <td>21.0</td>\n",
       "      <td>15.0</td>\n",
       "      <td>8.0</td>\n",
       "      <td>11.0</td>\n",
       "      <td>...</td>\n",
       "      <td>16.0</td>\n",
       "      <td>15.0</td>\n",
       "      <td>14.0</td>\n",
       "      <td>13.0</td>\n",
       "      <td>12.0</td>\n",
       "      <td>20.0</td>\n",
       "      <td>27.0</td>\n",
       "      <td>35.0</td>\n",
       "      <td>44.0</td>\n",
       "      <td>62.0</td>\n",
       "    </tr>\n",
       "    <tr>\n",
       "      <th>2</th>\n",
       "      <td>90.0</td>\n",
       "      <td>87.0</td>\n",
       "      <td>87.0</td>\n",
       "      <td>88.0</td>\n",
       "      <td>89.0</td>\n",
       "      <td>88.0</td>\n",
       "      <td>88.0</td>\n",
       "      <td>86.0</td>\n",
       "      <td>86.0</td>\n",
       "      <td>85.0</td>\n",
       "      <td>...</td>\n",
       "      <td>77.0</td>\n",
       "      <td>79.0</td>\n",
       "      <td>98.0</td>\n",
       "      <td>113.0</td>\n",
       "      <td>129.0</td>\n",
       "      <td>156.0</td>\n",
       "      <td>162.0</td>\n",
       "      <td>164.0</td>\n",
       "      <td>160.0</td>\n",
       "      <td>123.0</td>\n",
       "    </tr>\n",
       "    <tr>\n",
       "      <th>3</th>\n",
       "      <td>102.0</td>\n",
       "      <td>83.0</td>\n",
       "      <td>68.0</td>\n",
       "      <td>57.0</td>\n",
       "      <td>57.0</td>\n",
       "      <td>61.0</td>\n",
       "      <td>66.0</td>\n",
       "      <td>60.0</td>\n",
       "      <td>48.0</td>\n",
       "      <td>33.0</td>\n",
       "      <td>...</td>\n",
       "      <td>251.0</td>\n",
       "      <td>252.0</td>\n",
       "      <td>253.0</td>\n",
       "      <td>253.0</td>\n",
       "      <td>253.0</td>\n",
       "      <td>254.0</td>\n",
       "      <td>254.0</td>\n",
       "      <td>254.0</td>\n",
       "      <td>253.0</td>\n",
       "      <td>253.0</td>\n",
       "    </tr>\n",
       "    <tr>\n",
       "      <th>4</th>\n",
       "      <td>83.0</td>\n",
       "      <td>80.0</td>\n",
       "      <td>77.0</td>\n",
       "      <td>74.0</td>\n",
       "      <td>70.0</td>\n",
       "      <td>65.0</td>\n",
       "      <td>63.0</td>\n",
       "      <td>69.0</td>\n",
       "      <td>71.0</td>\n",
       "      <td>73.0</td>\n",
       "      <td>...</td>\n",
       "      <td>230.0</td>\n",
       "      <td>233.0</td>\n",
       "      <td>239.0</td>\n",
       "      <td>241.0</td>\n",
       "      <td>242.0</td>\n",
       "      <td>248.0</td>\n",
       "      <td>250.0</td>\n",
       "      <td>251.0</td>\n",
       "      <td>253.0</td>\n",
       "      <td>255.0</td>\n",
       "    </tr>\n",
       "    <tr>\n",
       "      <th>...</th>\n",
       "      <td>...</td>\n",
       "      <td>...</td>\n",
       "      <td>...</td>\n",
       "      <td>...</td>\n",
       "      <td>...</td>\n",
       "      <td>...</td>\n",
       "      <td>...</td>\n",
       "      <td>...</td>\n",
       "      <td>...</td>\n",
       "      <td>...</td>\n",
       "      <td>...</td>\n",
       "      <td>...</td>\n",
       "      <td>...</td>\n",
       "      <td>...</td>\n",
       "      <td>...</td>\n",
       "      <td>...</td>\n",
       "      <td>...</td>\n",
       "      <td>...</td>\n",
       "      <td>...</td>\n",
       "      <td>...</td>\n",
       "      <td>...</td>\n",
       "    </tr>\n",
       "    <tr>\n",
       "      <th>12768</th>\n",
       "      <td>193.0</td>\n",
       "      <td>193.0</td>\n",
       "      <td>193.0</td>\n",
       "      <td>195.0</td>\n",
       "      <td>195.0</td>\n",
       "      <td>198.0</td>\n",
       "      <td>201.0</td>\n",
       "      <td>204.0</td>\n",
       "      <td>202.0</td>\n",
       "      <td>201.0</td>\n",
       "      <td>...</td>\n",
       "      <td>231.0</td>\n",
       "      <td>232.0</td>\n",
       "      <td>235.0</td>\n",
       "      <td>235.0</td>\n",
       "      <td>236.0</td>\n",
       "      <td>238.0</td>\n",
       "      <td>238.0</td>\n",
       "      <td>238.0</td>\n",
       "      <td>239.0</td>\n",
       "      <td>239.0</td>\n",
       "    </tr>\n",
       "    <tr>\n",
       "      <th>12769</th>\n",
       "      <td>254.0</td>\n",
       "      <td>253.0</td>\n",
       "      <td>246.0</td>\n",
       "      <td>253.0</td>\n",
       "      <td>250.0</td>\n",
       "      <td>245.0</td>\n",
       "      <td>237.0</td>\n",
       "      <td>227.0</td>\n",
       "      <td>221.0</td>\n",
       "      <td>218.0</td>\n",
       "      <td>...</td>\n",
       "      <td>235.0</td>\n",
       "      <td>236.0</td>\n",
       "      <td>236.0</td>\n",
       "      <td>236.0</td>\n",
       "      <td>236.0</td>\n",
       "      <td>238.0</td>\n",
       "      <td>238.0</td>\n",
       "      <td>238.0</td>\n",
       "      <td>238.0</td>\n",
       "      <td>238.0</td>\n",
       "    </tr>\n",
       "    <tr>\n",
       "      <th>12770</th>\n",
       "      <td>18.0</td>\n",
       "      <td>20.0</td>\n",
       "      <td>21.0</td>\n",
       "      <td>25.0</td>\n",
       "      <td>28.0</td>\n",
       "      <td>28.0</td>\n",
       "      <td>24.0</td>\n",
       "      <td>17.0</td>\n",
       "      <td>11.0</td>\n",
       "      <td>8.0</td>\n",
       "      <td>...</td>\n",
       "      <td>5.0</td>\n",
       "      <td>4.0</td>\n",
       "      <td>2.0</td>\n",
       "      <td>2.0</td>\n",
       "      <td>2.0</td>\n",
       "      <td>5.0</td>\n",
       "      <td>7.0</td>\n",
       "      <td>7.0</td>\n",
       "      <td>9.0</td>\n",
       "      <td>12.0</td>\n",
       "    </tr>\n",
       "    <tr>\n",
       "      <th>12771</th>\n",
       "      <td>22.0</td>\n",
       "      <td>18.0</td>\n",
       "      <td>19.0</td>\n",
       "      <td>19.0</td>\n",
       "      <td>19.0</td>\n",
       "      <td>18.0</td>\n",
       "      <td>17.0</td>\n",
       "      <td>17.0</td>\n",
       "      <td>18.0</td>\n",
       "      <td>20.0</td>\n",
       "      <td>...</td>\n",
       "      <td>247.0</td>\n",
       "      <td>238.0</td>\n",
       "      <td>203.0</td>\n",
       "      <td>196.0</td>\n",
       "      <td>194.0</td>\n",
       "      <td>209.0</td>\n",
       "      <td>214.0</td>\n",
       "      <td>219.0</td>\n",
       "      <td>224.0</td>\n",
       "      <td>237.0</td>\n",
       "    </tr>\n",
       "    <tr>\n",
       "      <th>12772</th>\n",
       "      <td>14.0</td>\n",
       "      <td>14.0</td>\n",
       "      <td>14.0</td>\n",
       "      <td>13.0</td>\n",
       "      <td>13.0</td>\n",
       "      <td>18.0</td>\n",
       "      <td>34.0</td>\n",
       "      <td>56.0</td>\n",
       "      <td>80.0</td>\n",
       "      <td>101.0</td>\n",
       "      <td>...</td>\n",
       "      <td>17.0</td>\n",
       "      <td>23.0</td>\n",
       "      <td>23.0</td>\n",
       "      <td>22.0</td>\n",
       "      <td>22.0</td>\n",
       "      <td>22.0</td>\n",
       "      <td>21.0</td>\n",
       "      <td>21.0</td>\n",
       "      <td>20.0</td>\n",
       "      <td>18.0</td>\n",
       "    </tr>\n",
       "  </tbody>\n",
       "</table>\n",
       "<p>12773 rows × 16384 columns</p>\n",
       "</div>"
      ],
      "text/plain": [
       "       0      1      2      3      4      5      6      7      8      9      \\\n",
       "0        7.0    5.0    9.0   17.0   26.0   33.0   40.0   43.0   43.0   43.0   \n",
       "1       18.0   20.0   14.0    6.0    7.0   15.0   21.0   15.0    8.0   11.0   \n",
       "2       90.0   87.0   87.0   88.0   89.0   88.0   88.0   86.0   86.0   85.0   \n",
       "3      102.0   83.0   68.0   57.0   57.0   61.0   66.0   60.0   48.0   33.0   \n",
       "4       83.0   80.0   77.0   74.0   70.0   65.0   63.0   69.0   71.0   73.0   \n",
       "...      ...    ...    ...    ...    ...    ...    ...    ...    ...    ...   \n",
       "12768  193.0  193.0  193.0  195.0  195.0  198.0  201.0  204.0  202.0  201.0   \n",
       "12769  254.0  253.0  246.0  253.0  250.0  245.0  237.0  227.0  221.0  218.0   \n",
       "12770   18.0   20.0   21.0   25.0   28.0   28.0   24.0   17.0   11.0    8.0   \n",
       "12771   22.0   18.0   19.0   19.0   19.0   18.0   17.0   17.0   18.0   20.0   \n",
       "12772   14.0   14.0   14.0   13.0   13.0   18.0   34.0   56.0   80.0  101.0   \n",
       "\n",
       "       ...  16374  16375  16376  16377  16378  16379  16380  16381  16382  \\\n",
       "0      ...  139.0  134.0  115.0  110.0  107.0  108.0  111.0  114.0  116.0   \n",
       "1      ...   16.0   15.0   14.0   13.0   12.0   20.0   27.0   35.0   44.0   \n",
       "2      ...   77.0   79.0   98.0  113.0  129.0  156.0  162.0  164.0  160.0   \n",
       "3      ...  251.0  252.0  253.0  253.0  253.0  254.0  254.0  254.0  253.0   \n",
       "4      ...  230.0  233.0  239.0  241.0  242.0  248.0  250.0  251.0  253.0   \n",
       "...    ...    ...    ...    ...    ...    ...    ...    ...    ...    ...   \n",
       "12768  ...  231.0  232.0  235.0  235.0  236.0  238.0  238.0  238.0  239.0   \n",
       "12769  ...  235.0  236.0  236.0  236.0  236.0  238.0  238.0  238.0  238.0   \n",
       "12770  ...    5.0    4.0    2.0    2.0    2.0    5.0    7.0    7.0    9.0   \n",
       "12771  ...  247.0  238.0  203.0  196.0  194.0  209.0  214.0  219.0  224.0   \n",
       "12772  ...   17.0   23.0   23.0   22.0   22.0   22.0   21.0   21.0   20.0   \n",
       "\n",
       "       16383  \n",
       "0      111.0  \n",
       "1       62.0  \n",
       "2      123.0  \n",
       "3      253.0  \n",
       "4      255.0  \n",
       "...      ...  \n",
       "12768  239.0  \n",
       "12769  238.0  \n",
       "12770   12.0  \n",
       "12771  237.0  \n",
       "12772   18.0  \n",
       "\n",
       "[12773 rows x 16384 columns]"
      ]
     },
     "execution_count": 13,
     "metadata": {},
     "output_type": "execute_result"
    }
   ],
   "source": [
    "#Creating Image Matrix\n",
    "#import pandas as pd\n",
    "\n",
    "#df = {}\n",
    "array = []\n",
    "i = 0\n",
    "\n",
    "while(i!=img_data_list.shape[0]):\n",
    "  #df[i] = pd.DataFrame(img_data_list[i].flatten()).T\n",
    "  #array.append(df[i])\n",
    "  a = pd.DataFrame(img_data_list[i].flatten()).T\n",
    "  array.append(a)\n",
    "  i+=1\n",
    "df = pd.concat(array,ignore_index=True)\n",
    "df\n",
    "#df.to_excel(\"faces.xlsx\")"
   ]
  },
  {
   "cell_type": "code",
   "execution_count": null,
   "metadata": {
    "id": "hJgWsa9jvzb7"
   },
   "outputs": [],
   "source": [
    "#Find Mean Matrix Image\n",
    "df_mean = np.array(df.mean()).reshape(img_size)\n",
    "plt.imshow(df_mean, cmap='gray')\n",
    "df_mean = pd.DataFrame(df_mean)"
   ]
  },
  {
   "cell_type": "code",
   "execution_count": null,
   "metadata": {
    "id": "NmPpRTr1v2GS"
   },
   "outputs": [],
   "source": [
    "mean_vec = np.mean(df, axis=0)\n",
    "mean_vec"
   ]
  },
  {
   "cell_type": "code",
   "execution_count": null,
   "metadata": {
    "id": "H5GeVQDHv4gU"
   },
   "outputs": [],
   "source": [
    "selisih = df - mean_vec\n",
    "selisih"
   ]
  },
  {
   "cell_type": "code",
   "execution_count": null,
   "metadata": {
    "id": "xZt81DZcv6Je"
   },
   "outputs": [],
   "source": [
    "selisih = np.array(selisih)\n",
    "print(selisih)"
   ]
  },
  {
   "cell_type": "code",
   "execution_count": null,
   "metadata": {
    "id": "4Ecbwi_Bxjs3"
   },
   "outputs": [],
   "source": [
    "C = selisih.dot(selisih.T)\n",
    "C"
   ]
  },
  {
   "cell_type": "code",
   "execution_count": null,
   "metadata": {
    "id": "nmzV1rEVxz2D"
   },
   "outputs": [],
   "source": [
    "[nilai,vektor] = la.eig(C)"
   ]
  },
  {
   "cell_type": "code",
   "execution_count": null,
   "metadata": {
    "id": "VgRkrYnVyGKT"
   },
   "outputs": [],
   "source": [
    "vektor = vektor.T\n",
    "print(nilai)\n",
    "print(vektor)\n",
    "sort = nilai.argsort()[::-1]\n",
    "nilai = nilai[sort]\n",
    "vektor = vektor[sort,:]"
   ]
  },
  {
   "cell_type": "code",
   "execution_count": null,
   "metadata": {
    "id": "xzNJDRrx6J5p"
   },
   "outputs": [],
   "source": [
    "print('nilai =',nilai[0],', vektor =',vektor[0])\n",
    "print(np.matmul(C,vektor[0]),'=',nilai[0]*vektor[0])\n",
    "print('nilai =',nilai[1],', vektor =',vektor[1])\n",
    "print(np.matmul(C,vektor[1]),'=',nilai[1]*vektor[1])\n",
    "print('nilai =',nilai[2],', vektor =',vektor[2])\n",
    "print(np.matmul(C,vektor[2]),'=',nilai[2]*vektor[2])\n",
    "print('nilai =',nilai[3],', vektor =',vektor[3])\n",
    "print(np.matmul(C,vektor[3]),'=',nilai[3]*vektor[3])\n",
    "print('nilai =',nilai[4],', vektor =',vektor[4])\n",
    "print(np.matmul(C,vektor[4]),'=',nilai[4]*vektor[4])\n",
    "print('nilai =',nilai[5],', vektor =',vektor[5])\n",
    "print(np.matmul(C,vektor[5]),'=',nilai[5]*vektor[5])"
   ]
  },
  {
   "cell_type": "code",
   "execution_count": null,
   "metadata": {
    "id": "Ur80iDd26Z_k"
   },
   "outputs": [],
   "source": [
    "nilai = np.delete(nilai, [-1])\n",
    "vektor = np.delete(vektor, [-1],0)\n",
    "print(nilai)\n",
    "print(vektor)"
   ]
  },
  {
   "cell_type": "code",
   "execution_count": null,
   "metadata": {
    "id": "Z44UH29e7S5G"
   },
   "outputs": [],
   "source": [
    "vektor0=np.matmul(selisih.T,vektor[0])\n",
    "vektor1=np.matmul(selisih.T,vektor[1])\n",
    "vektor2=np.matmul(selisih.T,vektor[2])\n",
    "vektor3=np.matmul(selisih.T,vektor[3])\n",
    "vektor4=np.matmul(selisih.T,vektor[4])\n",
    "vektor=np.vstack((vektor0,vektor1,vektor2,vektor3,vektor4))\n",
    "print(vektor)\n",
    "df=pd.DataFrame(vektor)"
   ]
  },
  {
   "cell_type": "code",
   "execution_count": null,
   "metadata": {
    "id": "hbR1bABnDbBM"
   },
   "outputs": [],
   "source": [
    "vektor[0]=vektor[0]/np.linalg.norm(vektor[0])\n",
    "vektor[1]=vektor[1]/np.linalg.norm(vektor[1])\n",
    "vektor[2]=vektor[2]/np.linalg.norm(vektor[2])\n",
    "vektor[3]=vektor[3]/np.linalg.norm(vektor[3])\n",
    "vektor[4]=vektor[4]/np.linalg.norm(vektor[4])\n",
    "print(vektor)"
   ]
  },
  {
   "cell_type": "code",
   "execution_count": null,
   "metadata": {
    "id": "ecMv9_1t67f4"
   },
   "outputs": [],
   "source": [
    "from numpy import linalg as LA\n",
    "print(LA.norm(vektor[0]))\n",
    "print(LA.norm(vektor[1]))\n",
    "print(LA.norm(vektor[2]))\n",
    "print(LA.norm(vektor[3]))\n",
    "print(LA.norm(vektor[4]))"
   ]
  },
  {
   "cell_type": "code",
   "execution_count": null,
   "metadata": {
    "id": "D8JGuBmV7Ka3"
   },
   "outputs": [],
   "source": [
    "W0=np.matmul(vektor[0].T,selisih[0])\n",
    "W1=np.matmul(vektor[1].T,selisih[0])\n",
    "W2=np.matmul(vektor[2].T,selisih[0])\n",
    "W3=np.matmul(vektor[3].T,selisih[0])\n",
    "W4=np.matmul(vektor[4].T,selisih[0])\n",
    "print(W0)\n",
    "print(W1)\n",
    "print(W2)\n",
    "print(W3)\n",
    "print(W4)"
   ]
  },
  {
   "cell_type": "code",
   "execution_count": null,
   "metadata": {
    "id": "-zRkSAv4JlxS"
   },
   "outputs": [],
   "source": [
    "projected=mean_vec+W0*vektor[0]+W1*vektor[1]+W2*vektor[2]+W3*vektor[3]+W4*vektor[4]\n",
    "projected=np.array(projected).reshape(128,128)\n",
    "plt.imshow(projected, cmap='gray')"
   ]
  },
  {
   "cell_type": "code",
   "execution_count": null,
   "metadata": {
    "id": "yLFZiv9IJz2l"
   },
   "outputs": [],
   "source": []
  }
 ],
 "metadata": {
  "colab": {
   "authorship_tag": "ABX9TyNBltA8twvJymG+TQDKgq0H",
   "collapsed_sections": [],
   "name": "Test Skripsi.ipynb",
   "provenance": [
    {
     "file_id": "1kKupIsTLd6Am-XQs3fk0c4duAUSUgtI5",
     "timestamp": 1611895681003
    }
   ]
  },
  "kernelspec": {
   "display_name": "Python 3",
   "language": "python",
   "name": "python3"
  },
  "language_info": {
   "codemirror_mode": {
    "name": "ipython",
    "version": 3
   },
   "file_extension": ".py",
   "mimetype": "text/x-python",
   "name": "python",
   "nbconvert_exporter": "python",
   "pygments_lexer": "ipython3",
   "version": "3.8.8"
  }
 },
 "nbformat": 4,
 "nbformat_minor": 1
}
